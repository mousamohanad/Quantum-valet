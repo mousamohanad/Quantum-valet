{
 "cells": [
  {
   "cell_type": "code",
   "execution_count": 41,
   "metadata": {},
   "outputs": [],
   "source": [
    "import os, logging\n",
    "from ase.io import read,write\n"
   ]
  },
  {
   "cell_type": "code",
   "execution_count": 49,
   "metadata": {},
   "outputs": [],
   "source": [
    "class ValetSystem():\n",
    "\n",
    "    def __init__(self,xyz_init=None,path_out=None,xyz_format=None):\n",
    "        if self.set_paths(path_out):\n",
    "            self.load_structure(xyz_init,xyz_format)\n",
    "        # Initialize the rest of the attributes\n",
    "        self.encut = None\n",
    "        self.band_structure = None\n",
    "        self.band_gap = None\n",
    "\n",
    "    # Methods\n",
    "    \n",
    "    def set_paths(self,path_out):\n",
    "        # Setting up some paths\n",
    "        if path_out == None:\n",
    "            logging.error(\"Please enter a valid out directory.\")\n",
    "            return False\n",
    "        else:\n",
    "            self.path_out = os.path.join(\"valet_workspace\",path_out)\n",
    "            self.path_log = os.path.join(self.path_out,\"log\")\n",
    "            self.path_xyzs = os.path.join(self.path_out,\"structures\")\n",
    "            self.xyzs = {'init':os.path.join(self.path_xyzs,\"initial.xyz\"),\n",
    "                         'vol_scan':os.path.join(self.path_xyzs,\"volume_scan.xyz\"),\n",
    "                         'opt':os.path.join(self.path_xyzs,\"optimized.xyz\")}\n",
    "    \n",
    "            # Make output directory\n",
    "            if not os.path.isdir(self.path_log):\n",
    "                os.system(\"mkdir -p {}/\".format(self.path_log))\n",
    "            if not os.path.isdir(self.path_xyzs):\n",
    "                os.system(\"mkdir -p {}/\".format(self.path_xyzs))\n",
    "                                             \n",
    "            # Start log\n",
    "            logging.basicConfig(format='%(asctime)s : %(message)s', datefmt='%m/%d/%Y %I:%M:%S %p',\n",
    "                   filename=os.path.join(self.path_log,\"valet.log\"), filemode=\"w\",level=logging.INFO)  \n",
    "            return True\n",
    "    \n",
    "    def load_structure(self,xyz_init,xyz_format):\n",
    "        # Initial structure handling\n",
    "        if xyz_init == None:\n",
    "            logging.error(\"Please provide an initial structure file.\")\n",
    "            return None\n",
    "        elif os.path.isfile(xyz_init):\n",
    "            self.xyz_init = xyz_init\n",
    "            try:\n",
    "                if xyz_format == None:\n",
    "                    self.system_init = read(self.xyz_init)\n",
    "                else:\n",
    "                    self.system_init = read(self.xyz_int,format=xyz_format)\n",
    "            except:\n",
    "                if xyz_format == None:\n",
    "                    logging.error(\"Unable to determine file type. Try instantiating system with `xyz_format=type`.\")\n",
    "                    return None\n",
    "                else:\n",
    "                    logging.error(\"Unable to load structure file with format '{}'.\".format(xyz_format))\n",
    "                    return None\n",
    "        else:\n",
    "            logging.error(\"Cannot locate POSCAR file as {}\".format(xyz_init))\n",
    "            return None\n",
    "        write(self.xyzs['init'],self.system_init)\n",
    "        print(\"Valet system successfully instantiated.\")\n",
    "            "
   ]
  },
  {
   "cell_type": "code",
   "execution_count": 50,
   "metadata": {},
   "outputs": [
    {
     "name": "stdout",
     "output_type": "stream",
     "text": [
      "Valet system successfully instantiated.\n"
     ]
    }
   ],
   "source": [
    "a = ValetSystem(\"poscars/POSCAR.mp-27_Si\",\"si_test\")"
   ]
  },
  {
   "cell_type": "code",
   "execution_count": 53,
   "metadata": {},
   "outputs": [
    {
     "data": {
      "text/plain": [
       "Atoms(symbols='Si4', pbc=True, cell=[3.869485, 3.869485, 3.869485])"
      ]
     },
     "execution_count": 53,
     "metadata": {},
     "output_type": "execute_result"
    }
   ],
   "source": [
    "a.system_init"
   ]
  },
  {
   "cell_type": "code",
   "execution_count": 9,
   "metadata": {
    "collapsed": true
   },
   "outputs": [
    {
     "ename": "NameError",
     "evalue": "name 'path_out' is not defined",
     "output_type": "error",
     "traceback": [
      "\u001b[0;31m---------------------------------------------------------------------------\u001b[0m",
      "\u001b[0;31mNameError\u001b[0m                                 Traceback (most recent call last)",
      "\u001b[0;32m<ipython-input-9-45c45c8b12fa>\u001b[0m in \u001b[0;36m<module>\u001b[0;34m\u001b[0m\n\u001b[1;32m      1\u001b[0m \u001b[0;31m# Setting up some paths\u001b[0m\u001b[0;34m\u001b[0m\u001b[0;34m\u001b[0m\u001b[0m\n\u001b[0;32m----> 2\u001b[0;31m \u001b[0;32mif\u001b[0m \u001b[0mpath_out\u001b[0m \u001b[0;34m==\u001b[0m \u001b[0;32mNone\u001b[0m\u001b[0;34m:\u001b[0m\u001b[0;34m\u001b[0m\u001b[0m\n\u001b[0m\u001b[1;32m      3\u001b[0m     \u001b[0mprint\u001b[0m\u001b[0;34m(\u001b[0m\u001b[0;34m\"Please enter a valid out directory.\"\u001b[0m\u001b[0;34m)\u001b[0m\u001b[0;34m\u001b[0m\u001b[0m\n\u001b[1;32m      4\u001b[0m     \u001b[0mexit\u001b[0m\u001b[0;34m(\u001b[0m\u001b[0;34m)\u001b[0m\u001b[0;34m\u001b[0m\u001b[0m\n\u001b[1;32m      5\u001b[0m \u001b[0;32melse\u001b[0m\u001b[0;34m:\u001b[0m\u001b[0;34m\u001b[0m\u001b[0m\n",
      "\u001b[0;31mNameError\u001b[0m: name 'path_out' is not defined"
     ]
    }
   ],
   "source": [
    "\n",
    "        \n",
    "        # Check if user supplied kpoints\n",
    "        if kpts != None:\n",
    "            self.kpts = kpts\n",
    "        else:\n",
    "            self.kpts = [4,4,4]\n",
    "            \n",
    "        # Check if user supplied calculators\n",
    "        self.calc_dict = {'encut':Vasp2(xc='PBE',kpts=self.kpts,gamma=True,directory=self.path_out),\n",
    "                          'volume':Vasp2(xc='PBE',kpts=self.kpts,gamma=True,directory=self.path_out)}\n",
    "        if calculators != None:\n",
    "            print(\"Attaching your calculators.\")\n",
    "            if type(calculators) != type({}):\n",
    "                logging.error(\"Calculators should be provided in dictionary form. The relevant keys are 'encut', \\\n",
    "                              'volume', ....more to come.\")\n",
    "                self.error_read_log()\n",
    "                exit()\n",
    "            else:\n",
    "                for key in calculators.keys():\n",
    "                    self.calc_dict[key] = calculators[key]\n",
    "                    self.calc_dict[key].set(directory=self.path_out) # Make sure output path is correct\n",
    "        else:\n",
    "            print(\"Loading default calculators.\")\n",
    "    \n",
    "        \n",
    "        \n",
    "            \n",
    "        # Initialize the rest of the attributes\n",
    "        self.encut = None\n",
    "        self.band_structure = None\n",
    "        self.band_gap = None\n",
    "        \n",
    "        \n",
    "    \n",
    "        print(\"System loaded.\")"
   ]
  },
  {
   "cell_type": "code",
   "execution_count": 37,
   "metadata": {},
   "outputs": [
    {
     "data": {
      "text/plain": [
       "'poscars/POSCAR.mp-27_Si'"
      ]
     },
     "execution_count": 37,
     "metadata": {},
     "output_type": "execute_result"
    }
   ],
   "source": [
    "a.xyz_init"
   ]
  },
  {
   "cell_type": "code",
   "execution_count": 42,
   "metadata": {},
   "outputs": [
    {
     "data": {
      "text/plain": [
       "{'init': 'valet_workspace/si_test/xyzs/initial.xyz',\n",
       " 'opt': 'valet_workspace/si_test/xyzs/optimized.xyz',\n",
       " 'vol_scan': 'valet_workspace/si_test/xyzs/volume_scan.xyz'}"
      ]
     },
     "execution_count": 42,
     "metadata": {},
     "output_type": "execute_result"
    }
   ],
   "source": [
    "a.xyzs"
   ]
  },
  {
   "cell_type": "code",
   "execution_count": null,
   "metadata": {},
   "outputs": [],
   "source": []
  }
 ],
 "metadata": {
  "kernelspec": {
   "display_name": "Python 3",
   "language": "python",
   "name": "python3"
  },
  "language_info": {
   "codemirror_mode": {
    "name": "ipython",
    "version": 3
   },
   "file_extension": ".py",
   "mimetype": "text/x-python",
   "name": "python",
   "nbconvert_exporter": "python",
   "pygments_lexer": "ipython3",
   "version": "3.5.0"
  }
 },
 "nbformat": 4,
 "nbformat_minor": 2
}
