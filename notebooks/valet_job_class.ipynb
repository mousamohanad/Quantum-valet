{
 "cells": [
  {
   "cell_type": "code",
   "execution_count": 1,
   "metadata": {},
   "outputs": [],
   "source": [
    "import os\n",
    "import logging\n",
    "import numpy as np\n",
    "from ase.calculators.vasp import Vasp2\n",
    "from ase.io import read,write\n",
    "from ase.eos import EquationOfState\n",
    "from ase.io import jsonio\n",
    "\n"
   ]
  },
  {
   "cell_type": "code",
   "execution_count": 2,
   "metadata": {
    "scrolled": true
   },
   "outputs": [],
   "source": [
    "class ValetAutotune:\n",
    "    \n",
    "    \n",
    "    def __init__(self,POSCAR_init=None,path_out=None,kpts=None,calculators=None):\n",
    "        # Initial structure handling\n",
    "        if POSCAR_init == None:\n",
    "            print(\"Please provide an initial structure file.\")\n",
    "            exit()\n",
    "        elif os.path.isfile(POSCAR_init):\n",
    "            self.poscar_init = POSCAR_init\n",
    "            self.system = read(self.poscar_init)\n",
    "        else:\n",
    "            logging.error(\"Cannot locate POSCAR file as {}\".format(POSCAR_init))\n",
    "            self.error_read_log()\n",
    "            exit()\n",
    "            \n",
    "        # Setting up some paths\n",
    "        if path_out == None:\n",
    "            print(\"Please enter a valid out directory.\")\n",
    "            exit()\n",
    "        else:\n",
    "            self.path_out = os.path.join(\"valet_workspace\",path_out)\n",
    "            self.path_log = os.path.join(self.path_out,\"log\")\n",
    "            self.poscar_vol = os.path.join(self.path_out,\"POSCAR_vol\")\n",
    "        \n",
    "        # Check if user supplied kpoints\n",
    "        if kpts != None:\n",
    "            self.kpts = kpts\n",
    "        else:\n",
    "            self.kpts = [4,4,4]\n",
    "            \n",
    "        # Check if user supplied calculators\n",
    "        self.calc_dict = {'encut':Vasp2(xc='PBE',kpts=self.kpts,gamma=True,directory=self.path_out),\n",
    "                          'volume':Vasp2(xc='PBE',prec='Acc',  # First relaxation for curve\n",
    "                                        algo='Fast', \n",
    "                                        icharg=0,  # Calc charge from initial wavefunction\n",
    "                                        nelm=100,  # Max electronc SC steps\n",
    "                                        ibrion=2,  # Conj. grad. ionic relax\n",
    "                                        ediff=1E-4,#0.00005*len(self.system),\n",
    "                                        nsw=100,   # Max number ionic steps\n",
    "                                        isif=4,    # Position,shape change. Not volume\n",
    "                                        lreal='Auto',\n",
    "                                        ismear=-5, # Tetrahedon method; requires gamma-centered\n",
    "                                        sigma=0.05,\n",
    "                                        lwave=False, # No wavecar\n",
    "                                        lorbit=11,   # DOS car and lm-decomposed PROCAR,\n",
    "                                        kpts=self.kpts, gamma=True,directory=self.path_out)\n",
    "                         \n",
    "                         }                           \n",
    "                          #'volume':Vasp2(xc='PBE',kpts=self.kpts,gamma=True,directory=self.path_out)}\n",
    "                        \n",
    "        if calculators != None:\n",
    "            print(\"Attaching your calculators.\")\n",
    "            if type(calculators) != type({}):\n",
    "                logging.error(\"Calculators should be provided in dictionary form. The relevant keys are 'encut', \\\n",
    "                              'volume', ....more to come.\")\n",
    "                self.error_read_log()\n",
    "                exit()\n",
    "            else:\n",
    "                for key in calculators.keys():\n",
    "                    self.calc_dict[key] = calculators[key]\n",
    "                    self.calc_dict[key].set(directory=self.path_out) # Make sure output path is correct\n",
    "        else:\n",
    "            print(\"Loading default calculators.\")\n",
    "    \n",
    "        \n",
    "        \n",
    "            \n",
    "        # Initialize the rest of the attributes\n",
    "        self.encut = None\n",
    "        self.band_structure = None\n",
    "        self.band_gap = None\n",
    "        \n",
    "        # Make output directory\n",
    "        if not os.path.isdir(self.path_log):\n",
    "            os.system(\"mkdir -p {}/\".format(self.path_log))\n",
    "        # Start log\n",
    "        logging.basicConfig(format='%(asctime)s : %(message)s', datefmt='%m/%d/%Y %I:%M:%S %p',\n",
    "               filename=os.path.join(self.path_log,\"valet.log\"), filemode=\"w\",level=logging.INFO)  \n",
    "      \n",
    "    def error_read_log(self):\n",
    "        print(\"ERROR: See log for error.\")\n",
    "    \n",
    "    def clean_up(self):\n",
    "        os.system(\"cd {}; rm ase* C* D* E* I* K* O* PC* POSCAR POT* vaspr* WA* X*\".format(self.path_out))\n",
    "    \n",
    "    def set_encut_autotune_params(self,tol=None,max_steps=None,start_encut=None,encut_step=None):\n",
    "        stop = False\n",
    "        ens = []\n",
    "        cnt = 0\n",
    "        return tol,stop,cnt,max_steps,start_encut,encut_step,ens\n",
    "    \n",
    "    def check_stop(self,x,tol):\n",
    "        perc_diff = lambda x,y: np.abs(np.abs(x-y)/((x+y)/2))*100\n",
    "        if len(x) < 2:\n",
    "            return False\n",
    "        elif perc_diff(x[-1],x[-2]) < tol:\n",
    "            return True\n",
    "        else: \n",
    "            return False\n",
    "        \n",
    "    def do_encut_autotune(self,tol=1E-4,max_steps=32,start_encut=200,encut_step=25,retune=False):\n",
    "        logging.info(\"Commencing ENCUT autotune.\")\n",
    "        if (self.encut == None) or (retune):\n",
    "            sys = read(self.poscar_init)\n",
    "            calc = Vasp2(xc='PBE',kpts=(4,4,4),directory=self.path_out)\n",
    "            tol,stop,cnt,max_steps,ENCUT,ENCUT_step,ens = self.set_encut_autotune_params(tol=tol,max_steps=max_steps,\n",
    "                                                                                         start_encut=start_encut,\n",
    "                                                                                         encut_step=encut_step)\n",
    "\n",
    "            print(\"Autotuning ENCUT...\")\n",
    "            while not stop:\n",
    "                if 'error' in locals():\n",
    "                    del error\n",
    "                if cnt < max_steps:\n",
    "                    logging.debug(\"Count {}\".format(cnt))\n",
    "                    calc.set(encut=ENCUT)\n",
    "                    sys.set_calculator(calc)\n",
    "                    ens.append(sys.get_potential_energy())\n",
    "                    stop = self.check_stop(ens,tol)\n",
    "                    ENCUT += ENCUT_step\n",
    "                    cnt += 1\n",
    "                else:\n",
    "                    logging.debug(\"Maximum autotune steps reached.\")\n",
    "                    error = \"Maximum autotune steps reached.\"\n",
    "                    tip = \"Tip: Increase either start_encut, encut_step, or max_steps. Decrease tol.\"\n",
    "                    stop = True\n",
    "\n",
    "            try:\n",
    "                print(error)\n",
    "                print(tip)\n",
    "                self.encut = None\n",
    "            except NameError:\n",
    "                print(\"\\tENCUT auto-tuned to: {}\".format(ENCUT))\n",
    "                logging.info(\"Completed ENCUT autotune.\")\n",
    "                self.encut = ENCUT\n",
    "            print(\"Done.\")  \n",
    "        else:\n",
    "            print(\"ENCUT already autotuned. If you would like to retune, please pass 'retune' as True to 'self.do_encut_autotune'.\")\n",
    "            logging.info(\"Already autotuned ENCUT.\")\n",
    "            \n",
    "        self.clean_up()\n",
    "        \n",
    "    def set_volume_autotune_params(self,start_scan=None,end_scan=None,num_scans=None,exclude_type=None,only_type=None):\n",
    "        vols = []\n",
    "        ens = []\n",
    "        return start_scan,end_scan,num_scans,exclude_type,only_type,vols,ens\n",
    "\n",
    "    def do_volume_autotune(self,encut=None,start_scan=0.925,end_scan=1.075,num_scans=15,exclude_type=None,only_type=None):\n",
    "        if not os.path.isfile(self.poscar_vol):\n",
    "            encut = encut if encut!=None else self.do_encut_autotune()\n",
    "\n",
    "            logging.info(\"Commencing volume scan...\")\n",
    "            print(\"Determining optimal volume...\")\n",
    "            start_scan,end_scan,num_scans,exclude_type,only_type,vols,ens = self.set_volume_autotune_params(\n",
    "                start_scan=start_scan,end_scan=end_scan,num_scans=num_scans,exclude_type=exclude_type,\n",
    "                only_type=only_type)\n",
    "\n",
    "\n",
    "            # Load POSCAR\n",
    "            try:\n",
    "                sys = read(self.poscar_init)\n",
    "                calc = self.calc_dict['volume']\n",
    "                calc.set(encut=encut)\n",
    "                start_cell = sys.get_cell()\n",
    "            except:\n",
    "                logging.error(\"Initial POSCAR file could not be found at {}\".format(poscar_init))\n",
    "                print(\"Error: See error log for details.\")\n",
    "                return None\n",
    "            logging.info(\"Loaded initial POSCAR file.\")\n",
    "\n",
    "            # Do volume scan\n",
    "            logging.info(\"Performing volume scan.\")\n",
    "            for x in np.linspace(start_scan,end_scan,num_scans):\n",
    "                sys.set_cell(x*start_cell,scale_atoms=True)\n",
    "                sys.set_calculator(calc)\n",
    "                ens.append(sys.get_potential_energy())\n",
    "                vols.append(sys.get_volume())\n",
    "            logging.info(\"Volume scan complete.\")\n",
    "\n",
    "            # Fit EoS\n",
    "            logging.info(\"Fitting equations of state.\")\n",
    "            eos_types = \"sjeos taylor murnaghan birch birchmurnaghan pouriertarantola p3 antonschmidt\".split()\n",
    "\n",
    "            if exclude_type != None:\n",
    "                _ = [eos_types.remove(i) for i in exclude]\n",
    "            elif only_type != None:\n",
    "                eos_types = only_type\n",
    "\n",
    "            \n",
    "            \n",
    "            eos_fits = {}\n",
    "            for typ in eos_types:\n",
    "                eos = EquationOfState(vols,ens,eos=typ)\n",
    "                try:\n",
    "                    v, e, B = eos.fit()\n",
    "                    eos_fits[typ] = {'volume':v,'energy':e,'buld_modulus':B}\n",
    "                except:\n",
    "                    print(\"Unable to fit type {}.\".format(typ))\n",
    "\n",
    "            # Rescale initial cell to optimized volume\n",
    "            logging.info(\"Optimal volume found. Rescaling original cell.\")\n",
    "            vol_avg = np.average([eos_fits[key]['volume'] for key in eos_fits.keys()])\n",
    "            sys.set_cell(start_cell,scale_atoms=True)\n",
    "\n",
    "            scale = sys.get_volume()/vol_avg\n",
    "            sys.set_cell(scale*start_cell,scale_atoms=True)\n",
    "\n",
    "            # Perform sc-step\n",
    "            logging.info(\"Performing self-consistent step.\")\n",
    "            print(\"Second relaxation\")\n",
    "            #calc.set(isif=3)  # Everything can relax\n",
    "            sys.set_calculator(calc)\n",
    "            en = sys.get_potential_energy()\n",
    "            \n",
    "            # Set relaxed structure as active structure\n",
    "            print(\"Setting relaxed structure to active structure.\")\n",
    "            self.system = sys\n",
    "\n",
    "            # Save structure\n",
    "            logging.info(\"Saving self-consistent calculator.\")\n",
    "            write(self.poscar_vol,sys)\n",
    "\n",
    "            print(\"Done.\")\n",
    "            logging.info(\"Volume scan complete.\")\n",
    "            self.clean_up()\n",
    "        else:\n",
    "            sys = read(self.poscar_vol)\n",
    "            print(\"Volume optimized system ready.\")\n",
    "        "
   ]
  },
  {
   "cell_type": "code",
   "execution_count": 3,
   "metadata": {},
   "outputs": [
    {
     "name": "stdout",
     "output_type": "stream",
     "text": [
      "/home/st/st_st/st_st159367/vasp_pp/\r\n"
     ]
    }
   ],
   "source": [
    "!echo $VASP_PP_PATH"
   ]
  },
  {
   "cell_type": "code",
   "execution_count": 9,
   "metadata": {
    "scrolled": true
   },
   "outputs": [
    {
     "name": "stdout",
     "output_type": "stream",
     "text": [
      "Attaching your calculators.\n",
      "Volume optimized system ready.\n"
     ]
    },
    {
     "data": {
      "text/plain": [
       "14.484366692156419"
      ]
     },
     "execution_count": 9,
     "metadata": {},
     "output_type": "execute_result"
    }
   ],
   "source": [
    "a = ValetAutotune(\"poscars/POSCAR.mp-27_Si\",\"Si\",calculators={'volume':Vasp2(setups='recommended',lwave=False)})\n",
    "a.do_volume_autotune(encut=725)\n",
    "a.system.get_volume()/4\n",
    "\n"
   ]
  },
  {
   "cell_type": "code",
   "execution_count": 8,
   "metadata": {
    "scrolled": true
   },
   "outputs": [
    {
     "name": "stdout",
     "output_type": "stream",
     "text": [
      "Attaching your calculators.\n",
      "Volume optimized system ready.\n"
     ]
    },
    {
     "data": {
      "text/plain": [
       "14.484366692156419"
      ]
     },
     "execution_count": 8,
     "metadata": {},
     "output_type": "execute_result"
    }
   ],
   "source": [
    "b = ValetAutotune(\"poscars/POSCAR.mp-27_Si\",\"Si2\",calculators={'volume':Vasp2(setups='recommended',lwave=False)})\n",
    "b.do_volume_autotune()\n",
    "b.system.get_volume()/4"
   ]
  },
  {
   "cell_type": "code",
   "execution_count": 10,
   "metadata": {},
   "outputs": [
    {
     "name": "stdout",
     "output_type": "stream",
     "text": [
      "Attaching your calculators.\n",
      "Volume optimized system ready.\n"
     ]
    },
    {
     "data": {
      "text/plain": [
       "14.484366692156419"
      ]
     },
     "execution_count": 10,
     "metadata": {},
     "output_type": "execute_result"
    }
   ],
   "source": [
    "c = ValetAutotune(\"poscars/POSCAR.mp-27_Si\",\"Si3\",calculators={'volume':Vasp2(setups='recommended',lwave=False)})\n",
    "c.do_volume_autotune(encut=725)\n",
    "c.system.get_volume()/4"
   ]
  },
  {
   "cell_type": "code",
   "execution_count": 7,
   "metadata": {},
   "outputs": [
    {
     "data": {
      "text/plain": [
       "0.0002"
      ]
     },
     "execution_count": 7,
     "metadata": {},
     "output_type": "execute_result"
    }
   ],
   "source": [
    "len(a.system)*0.00005 "
   ]
  },
  {
   "cell_type": "code",
   "execution_count": null,
   "metadata": {},
   "outputs": [],
   "source": []
  }
 ],
 "metadata": {
  "kernelspec": {
   "display_name": "Python 3",
   "language": "python",
   "name": "python3"
  },
  "language_info": {
   "codemirror_mode": {
    "name": "ipython",
    "version": 3
   },
   "file_extension": ".py",
   "mimetype": "text/x-python",
   "name": "python",
   "nbconvert_exporter": "python",
   "pygments_lexer": "ipython3",
   "version": "3.5.0"
  }
 },
 "nbformat": 4,
 "nbformat_minor": 2
}
