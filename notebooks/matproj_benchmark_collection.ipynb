{
 "cells": [
  {
   "cell_type": "markdown",
   "metadata": {
    "toc": true
   },
   "source": [
    "<h1>Table of Contents<span class=\"tocSkip\"></span></h1>\n",
    "<div class=\"toc\"><ul class=\"toc-item\"><li><span><a href=\"#Imports\" data-toc-modified-id=\"Imports-1\"><span class=\"toc-item-num\">1&nbsp;&nbsp;</span>Imports</a></span></li><li><span><a href=\"#Trial-Requests\" data-toc-modified-id=\"Trial-Requests-2\"><span class=\"toc-item-num\">2&nbsp;&nbsp;</span>Trial Requests</a></span><ul class=\"toc-item\"><li><span><a href=\"#General-Request\" data-toc-modified-id=\"General-Request-2.1\"><span class=\"toc-item-num\">2.1&nbsp;&nbsp;</span>General Request</a></span></li><li><span><a href=\"#Getting-Structure\" data-toc-modified-id=\"Getting-Structure-2.2\"><span class=\"toc-item-num\">2.2&nbsp;&nbsp;</span>Getting Structure</a></span><ul class=\"toc-item\"><li><span><a href=\"#Request-Data\" data-toc-modified-id=\"Request-Data-2.2.1\"><span class=\"toc-item-num\">2.2.1&nbsp;&nbsp;</span>Request Data</a></span></li><li><span><a href=\"#Extract-Structural-Info-and-Build-ASE-Atoms-Object\" data-toc-modified-id=\"Extract-Structural-Info-and-Build-ASE-Atoms-Object-2.2.2\"><span class=\"toc-item-num\">2.2.2&nbsp;&nbsp;</span>Extract Structural Info and Build ASE Atoms Object</a></span></li><li><span><a href=\"#Add-Atoms\" data-toc-modified-id=\"Add-Atoms-2.2.3\"><span class=\"toc-item-num\">2.2.3&nbsp;&nbsp;</span>Add Atoms</a></span></li><li><span><a href=\"#Get-POTCAR-Parameters\" data-toc-modified-id=\"Get-POTCAR-Parameters-2.2.4\"><span class=\"toc-item-num\">2.2.4&nbsp;&nbsp;</span>Get POTCAR Parameters</a></span></li></ul></li></ul></li><li><span><a href=\"#Functions\" data-toc-modified-id=\"Functions-3\"><span class=\"toc-item-num\">3&nbsp;&nbsp;</span>Functions</a></span></li><li><span><a href=\"#Collect-Bench-Set\" data-toc-modified-id=\"Collect-Bench-Set-4\"><span class=\"toc-item-num\">4&nbsp;&nbsp;</span>Collect Bench Set</a></span></li></ul></div>"
   ]
  },
  {
   "cell_type": "markdown",
   "metadata": {},
   "source": [
    "# Imports"
   ]
  },
  {
   "cell_type": "code",
   "execution_count": 9,
   "metadata": {},
   "outputs": [],
   "source": [
    "import requests, ase\n",
    "import numpy as np\n",
    "import pickle as pkl"
   ]
  },
  {
   "cell_type": "markdown",
   "metadata": {},
   "source": [
    "# Trial Requests\n",
    "\n",
    "## General Request"
   ]
  },
  {
   "cell_type": "code",
   "execution_count": 10,
   "metadata": {},
   "outputs": [],
   "source": [
    "url = (\n",
    "'https://www.materialsproject.org/rest/v2/materials/mp-1234/vasp?API_KEY=rNLdA4JmwdI5kSuHHr1r'\n",
    ")\n",
    "response = requests.get(url)\n",
    "data = response.json()['response'][0] # Unpack the data directly"
   ]
  },
  {
   "cell_type": "code",
   "execution_count": 11,
   "metadata": {},
   "outputs": [],
   "source": [
    "energy = data['energy']\n",
    "bandgap = data['band_gap']"
   ]
  },
  {
   "cell_type": "markdown",
   "metadata": {},
   "source": [
    "## Getting Structure"
   ]
  },
  {
   "cell_type": "markdown",
   "metadata": {},
   "source": [
    "### Request Data"
   ]
  },
  {
   "cell_type": "code",
   "execution_count": 12,
   "metadata": {},
   "outputs": [],
   "source": [
    "url = ( \n",
    "'https://www.materialsproject.org/rest/v2/materials/mp-804/vasp/final_structure?API_KEY=rNLdA4JmwdI5kSuHHr1r'\n",
    ")\n",
    "response = requests.get(url)\n",
    "data = response.json()['response'][0]\n"
   ]
  },
  {
   "cell_type": "markdown",
   "metadata": {},
   "source": [
    "### Extract Structural Info and Build ASE Atoms Object"
   ]
  },
  {
   "cell_type": "code",
   "execution_count": 13,
   "metadata": {},
   "outputs": [],
   "source": [
    "structure = data['final_structure']\n",
    "cell = structure['lattice']\n",
    "cell\n",
    "a = cell['a']\n",
    "b = cell['b']\n",
    "c = cell['c']\n",
    "alpha = cell['alpha']\n",
    "beta = cell['beta']\n",
    "gamma = cell['gamma']\n",
    "volume = cell['volume']\n",
    "\n",
    "system = ase.Atoms()\n",
    "system.set_cell([a,b,c,alpha,beta,gamma])"
   ]
  },
  {
   "cell_type": "markdown",
   "metadata": {},
   "source": [
    "### Add Atoms"
   ]
  },
  {
   "cell_type": "code",
   "execution_count": 14,
   "metadata": {},
   "outputs": [],
   "source": [
    "sites = structure['sites']\n",
    "\n",
    "for site in sites:\n",
    "    species = site['label']\n",
    "    pos = site['xyz']\n",
    "    magmom = site['properties']['magmom']\n",
    "    system.append(ase.Atom(species,pos,magmom=magmom))\n"
   ]
  },
  {
   "cell_type": "markdown",
   "metadata": {},
   "source": [
    "### Get POTCAR Parameters"
   ]
  },
  {
   "cell_type": "code",
   "execution_count": 15,
   "metadata": {},
   "outputs": [],
   "source": [
    "url = ( \n",
    "'https://www.materialsproject.org/rest/v2/tasks/mp-804/potcar?API_KEY=rNLdA4JmwdI5kSuHHr1r'\n",
    ")\n",
    "response = requests.get(url)\n",
    "data = response.json()['response'][0]\n",
    "\n",
    "potcar = data['potcar']"
   ]
  },
  {
   "cell_type": "code",
   "execution_count": 16,
   "metadata": {},
   "outputs": [
    {
     "name": "stdout",
     "output_type": "stream",
     "text": [
      "{'N': '', 'Ga': '_d'}\n"
     ]
    }
   ],
   "source": [
    "setups = {}\n",
    "for setup in [i.split(\"_\") for i in potcar]:\n",
    "    if len(setup) > 1:\n",
    "        setups[setup[0]] = '_'+setup[1]\n",
    "    else:\n",
    "        setups[setup[0]] = ''\n",
    "        \n",
    "print(setups)"
   ]
  },
  {
   "cell_type": "markdown",
   "metadata": {},
   "source": [
    "# Functions"
   ]
  },
  {
   "cell_type": "code",
   "execution_count": 17,
   "metadata": {},
   "outputs": [],
   "source": [
    "def build_cell(structure):\n",
    "    cell = structure['lattice']\n",
    "    a = cell['a']\n",
    "    b = cell['b']\n",
    "    c = cell['c']\n",
    "    alpha = cell['alpha']\n",
    "    beta = cell['beta']\n",
    "    gamma = cell['gamma']\n",
    "    volume = cell['volume']\n",
    "\n",
    "    system = ase.Atoms()\n",
    "    system.set_cell([a,b,c,alpha,beta,gamma])\n",
    "    system.set_pbc(True)\n",
    "\n",
    "    # Add atoms\n",
    "    sites = structure['sites']\n",
    "\n",
    "    for site in sites:\n",
    "        species = site['label']\n",
    "        pos = site['xyz']\n",
    "        try:\n",
    "            magmom = site['properties']['magmom']\n",
    "        except KeyError:\n",
    "            magmom = 0.\n",
    "        system.append(ase.Atom(species,pos,magmom=magmom))\n",
    "        \n",
    "    return system\n",
    "\n",
    "def do_request(_id):\n",
    "    # Setup query urls\n",
    "    url_head = 'https://www.materialsproject.org/rest/v2/'\n",
    "    url_tail = '?API_KEY=rNLdA4JmwdI5kSuHHr1r'\n",
    "    url_structure_initial = 'materials/mp-{}/vasp/initial_structure'.format(_id)\n",
    "    url_structure_final = 'materials/mp-{}/vasp/final_structure'.format(_id)\n",
    "    url_bandgap = 'materials/mp-{}/vasp/'.format(_id)\n",
    "    url_potcar = 'tasks/mp-{}/potcar'.format(_id)\n",
    "\n",
    "    # Initial Structure Query and Extraction\n",
    "    url = url_head+url_structure_initial+url_tail\n",
    "    response = requests.get(url)\n",
    "    try:\n",
    "        data = response.json()['response'][0]\n",
    "        \n",
    "        # Build cell\n",
    "        structure = data['initial_structure']\n",
    "        system_initial = build_cell(structure)\n",
    "            \n",
    "    except IndexError:\n",
    "        #print('ID {} not valid.'.format(id))\n",
    "        return None# Don't do Potcar query, bc id not valid\n",
    "    \n",
    "    # Final Structure Query and Extraction\n",
    "    url = url_head+url_structure_final+url_tail\n",
    "    response = requests.get(url)\n",
    "    try:\n",
    "        data = response.json()['response'][0]\n",
    "        \n",
    "        # Build cell\n",
    "        structure = data['final_structure']\n",
    "        system_final = build_cell(structure)\n",
    "            \n",
    "    except IndexError:\n",
    "        #print('ID {} not valid.'.format(id))\n",
    "        return None# Don't do Potcar query, bc id not valid\n",
    "\n",
    "    # Potcar Query and Extraction\n",
    "    url = url_head+url_potcar+url_tail\n",
    "    response = requests.get(url)\n",
    "    try:\n",
    "        data = response.json()['response'][0]\n",
    "        potcar = data['potcar']\n",
    "        setups = {}\n",
    "        for setup in [i.split(\"_\") for i in potcar]:\n",
    "            if len(setup) > 1:\n",
    "                setups[setup[0]] = '_'+setup[1]\n",
    "            else:\n",
    "                setups[setup[0]] = ''\n",
    "    except IndexError:\n",
    "        print('Unable to find POTCAR information for with ID {}.'.format(id))\n",
    "        return None\n",
    "    \n",
    "    # Get Band Gap \n",
    "    url = url_head+url_bandgap+url_tail\n",
    "    response = requests.get(url)\n",
    "    data = response.json()['response'][0]\n",
    "    bandgap = data['band_gap']\n",
    "        \n",
    "    return system_initial, system_final, setups, bandgap\n",
    "\n",
    "def collect_bench_set(_id):\n",
    "    key = 'mp-{}'.format(_id)\n",
    "    try:\n",
    "        system_initial, system_final, setups, bandgap = do_request(_id)\n",
    "        entry = {'structure_initial':system_initial,'structure_final':system_final,'potcar':setups,'bandgap':bandgap}\n",
    "    except TypeError:\n",
    "        entry = {'error': 'Bad ID'}\n",
    "    \n",
    "    return key,entry"
   ]
  },
  {
   "cell_type": "markdown",
   "metadata": {},
   "source": [
    "# Collect Bench Set"
   ]
  },
  {
   "cell_type": "code",
   "execution_count": null,
   "metadata": {
    "scrolled": false
   },
   "outputs": [],
   "source": [
    "bench_set = {}\n",
    "ids = np.arange(900)\n",
    "errors = []\n",
    "\n",
    "for _id in ids:\n",
    "    if _id%25 == 0:\n",
    "        print('{} of {}'.format(_id,len(ids)))\n",
    "    try:\n",
    "        key,entry = collect_bench_set(_id)\n",
    "        bench_set[key] = entry\n",
    "    except:\n",
    "        errors.append(_id)\n"
   ]
  },
  {
   "cell_type": "code",
   "execution_count": null,
   "metadata": {},
   "outputs": [],
   "source": [
    "with open('matproj_bench_set_0_to_900.pkl','wb') as fout:\n",
    "    pkl.dump(bench_set,fout)"
   ]
  },
  {
   "cell_type": "code",
   "execution_count": 5,
   "metadata": {
    "collapsed": true
   },
   "outputs": [
    {
     "ename": "NameError",
     "evalue": "name 'bench_set' is not defined",
     "output_type": "error",
     "traceback": [
      "\u001b[0;31m---------------------------------------------------------------------------\u001b[0m",
      "\u001b[0;31mNameError\u001b[0m                                 Traceback (most recent call last)",
      "\u001b[0;32m<ipython-input-5-a0ebe0ae4e90>\u001b[0m in \u001b[0;36m<module>\u001b[0;34m\u001b[0m\n\u001b[0;32m----> 1\u001b[0;31m \u001b[0mbad_ids\u001b[0m \u001b[0;34m=\u001b[0m \u001b[0;34m[\u001b[0m\u001b[0mkey\u001b[0m \u001b[0;32mfor\u001b[0m \u001b[0mkey\u001b[0m \u001b[0;32min\u001b[0m \u001b[0mbench_set\u001b[0m\u001b[0;34m.\u001b[0m\u001b[0mkeys\u001b[0m\u001b[0;34m(\u001b[0m\u001b[0;34m)\u001b[0m \u001b[0;32mif\u001b[0m \u001b[0mbench_set\u001b[0m\u001b[0;34m[\u001b[0m\u001b[0mkey\u001b[0m\u001b[0;34m]\u001b[0m \u001b[0;34m==\u001b[0m \u001b[0;34m{\u001b[0m\u001b[0;34m'error'\u001b[0m\u001b[0;34m:\u001b[0m \u001b[0;34m'Bad ID'\u001b[0m\u001b[0;34m}\u001b[0m\u001b[0;34m]\u001b[0m\u001b[0;34m\u001b[0m\u001b[0;34m\u001b[0m\u001b[0m\n\u001b[0m\u001b[1;32m      2\u001b[0m \u001b[0mlen\u001b[0m\u001b[0;34m(\u001b[0m\u001b[0mbad_ids\u001b[0m\u001b[0;34m)\u001b[0m\u001b[0;34m\u001b[0m\u001b[0;34m\u001b[0m\u001b[0m\n",
      "\u001b[0;31mNameError\u001b[0m: name 'bench_set' is not defined"
     ]
    }
   ],
   "source": [
    "bad_ids = [key for key in bench_set.keys() if bench_set[key] == {'error': 'Bad ID'}]\n",
    "len(bad_ids)"
   ]
  },
  {
   "cell_type": "code",
   "execution_count": 3,
   "metadata": {
    "collapsed": true
   },
   "outputs": [
    {
     "name": "stdout",
     "output_type": "stream",
     "text": [
      "900 of 1400\n",
      "925 of 1400\n",
      "950 of 1400\n",
      "975 of 1400\n",
      "1000 of 1400\n",
      "1025 of 1400\n",
      "1050 of 1400\n",
      "1075 of 1400\n",
      "1100 of 1400\n",
      "1125 of 1400\n",
      "1150 of 1400\n",
      "1175 of 1400\n",
      "1200 of 1400\n",
      "1225 of 1400\n",
      "1250 of 1400\n",
      "1275 of 1400\n",
      "1300 of 1400\n",
      "1325 of 1400\n",
      "1350 of 1400\n",
      "1375 of 1400\n"
     ]
    }
   ],
   "source": [
    "errors = []\n",
    "ids = np.arange(900,1400)\n",
    "bench_set2 = {}\n",
    "\n",
    "for _id in ids:\n",
    "    if _id%25 == 0:\n",
    "        print('{} of {}'.format(_id,900+len(ids)))\n",
    "    try:\n",
    "        key,entry = collect_bench_set(_id)\n",
    "        bench_set2[key] = entry\n",
    "    except:\n",
    "        errors.append(_id)\n",
    "        \n"
   ]
  },
  {
   "cell_type": "markdown",
   "metadata": {},
   "source": [
    "errors"
   ]
  },
  {
   "cell_type": "code",
   "execution_count": 4,
   "metadata": {},
   "outputs": [
    {
     "data": {
      "text/plain": [
       "128"
      ]
     },
     "execution_count": 4,
     "metadata": {},
     "output_type": "execute_result"
    }
   ],
   "source": [
    "bad_ids2 = [key for key in bench_set2.keys() if bench_set2[key] == {'error': 'Bad ID'}]\n",
    "len(bad_ids2)"
   ]
  },
  {
   "cell_type": "code",
   "execution_count": 7,
   "metadata": {},
   "outputs": [],
   "source": [
    "with open('matproj_bench_set_900_to_1400.pkl','wb') as fout:\n",
    "    pkl.dump(bench_set2,fout)"
   ]
  },
  {
   "cell_type": "code",
   "execution_count": 8,
   "metadata": {},
   "outputs": [
    {
     "name": "stdout",
     "output_type": "stream",
     "text": [
      "matproj_bench_set_0_to_900.pkl     test.pkl\r\n",
      "matproj_bench_set_900_to_1400.pkl\r\n"
     ]
    }
   ],
   "source": [
    "ls *pkl"
   ]
  },
  {
   "cell_type": "code",
   "execution_count": null,
   "metadata": {},
   "outputs": [],
   "source": []
  }
 ],
 "metadata": {
  "kernelspec": {
   "display_name": "Python 3",
   "language": "python",
   "name": "python3"
  },
  "language_info": {
   "codemirror_mode": {
    "name": "ipython",
    "version": 3
   },
   "file_extension": ".py",
   "mimetype": "text/x-python",
   "name": "python",
   "nbconvert_exporter": "python",
   "pygments_lexer": "ipython3",
   "version": "3.7.3"
  },
  "toc": {
   "base_numbering": 1,
   "nav_menu": {},
   "number_sections": true,
   "sideBar": true,
   "skip_h1_title": false,
   "title_cell": "Table of Contents",
   "title_sidebar": "Contents",
   "toc_cell": true,
   "toc_position": {},
   "toc_section_display": true,
   "toc_window_display": true
  }
 },
 "nbformat": 4,
 "nbformat_minor": 2
}
