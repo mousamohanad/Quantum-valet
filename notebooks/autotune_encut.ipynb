{
 "cells": [
  {
   "cell_type": "code",
   "execution_count": 1,
   "metadata": {},
   "outputs": [],
   "source": [
    "from ase.calculators.vasp import Vasp2\n",
    "from ase.io import read\n",
    "import numpy as np\n",
    "import logging\n",
    "import os\n",
    "\n",
    "!rm -r bench_Si_autotune_ENCUT\n"
   ]
  },
  {
   "cell_type": "markdown",
   "metadata": {},
   "source": [
    "# Load Structure and Set Output Directory"
   ]
  },
  {
   "cell_type": "code",
   "execution_count": null,
   "metadata": {},
   "outputs": [],
   "source": [
    "out_dir = 'bench_Si_autotune_ENCUT'\n",
    "sys = read(\"POSCAR.mp-27_Si\")"
   ]
  },
  {
   "cell_type": "markdown",
   "metadata": {},
   "source": [
    "# Start Log and Define Calc"
   ]
  },
  {
   "cell_type": "code",
   "execution_count": 10,
   "metadata": {},
   "outputs": [],
   "source": [
    "if not os.path.isdir(out_dir+\"/log\"):\n",
    "    os.system(\"mkdir -p {}/log\".format(out_dir))\n",
    "logging.basicConfig(format='%(asctime)s : %(message)s', datefmt='%m/%d/%Y %I:%M:%S %p',\n",
    "                   filename=out_dir+\"/log/valet.log\", filemode=\"w\",level=logging.INFO)\n",
    "calc = Vasp2(xc='PBE',kpts=(4,4,4),directory=out_dir,atoms=sys)"
   ]
  },
  {
   "cell_type": "markdown",
   "metadata": {},
   "source": [
    "# Methods"
   ]
  },
  {
   "cell_type": "code",
   "execution_count": 13,
   "metadata": {},
   "outputs": [],
   "source": [
    "def check_stop(x,tol):\n",
    "    perc_diff = lambda x,y: np.abs(np.abs(x-y)/((x+y)/2))*100\n",
    "    if len(x) < 2:\n",
    "        return False\n",
    "    elif perc_diff(x[-1],x[-2]) < tol:\n",
    "        return True\n",
    "    else: \n",
    "        return False\n",
    "\n",
    "def set_encut_autotune_params(tol=1E-4,max_steps=15,start_encut=200,encut_step=50):\n",
    "    stop = False\n",
    "    ens = []\n",
    "    cnt = 0\n",
    "    return tol,stop,cnt,max_steps,start_encut,encut_step,ens\n",
    "\n",
    "\n",
    "def do_encut_autotune(tol=1E-4,max_steps=15,start_encut=200,encut_step=50):\n",
    "    tol,stop,cnt,max_steps,ENCUT,ENCUT_step,ens = set_encut_autotune_params(tol=tol,max_steps=max_steps,\n",
    "                                                                                 start_encut=start_encut,\n",
    "                                                                                 encut_step=encut_step)\n",
    "    logging.info(\"Commencing with ENCUT autotune.\")\n",
    "    print(\"Autotuning ENCUT...\")\n",
    "    while not stop:\n",
    "        if 'error' in locals():\n",
    "            del error\n",
    "        if cnt < max_steps:\n",
    "            logging.debug(\"Count {}\".format(cnt))\n",
    "            calc.set(encut=ENCUT)\n",
    "            ens.append(sys.get_potential_energy())\n",
    "            #print(ENCUT)\n",
    "            stop = check_stop(ens,tol)\n",
    "            ENCUT += ENCUT_step\n",
    "            cnt += 1\n",
    "        else:\n",
    "            logging.debug(\"Maximum autotune steps reached.\")\n",
    "            error = \"Maximum autotune steps reached.\"\n",
    "            tip = \"Tip: Increase either start_encut, encut_step, or max_steps. Decrease tol.\"\n",
    "            stop = True\n",
    "\n",
    "    os.system(\"rm {}/*\".format(out_dir))\n",
    "    logging.info(\"Completed ENCUT autotune.\")\n",
    "    try:\n",
    "        print(error)\n",
    "        print(tip)\n",
    "        return None\n",
    "    except NameError:\n",
    "        print(\"\\tENCUT auto-tuned to: {}\".format(ENCUT))\n",
    "        return ENCUT\n",
    "    "
   ]
  },
  {
   "cell_type": "code",
   "execution_count": 14,
   "metadata": {},
   "outputs": [
    {
     "name": "stdout",
     "output_type": "stream",
     "text": [
      "Autotuning ENCUT...\n",
      "\tENCUT auto-tuned to: 900\n",
      "900\n"
     ]
    }
   ],
   "source": [
    "ENCUT = do_encut_autotune(tol=1E-4,start_encut=800)\n",
    "print(ENCUT)"
   ]
  },
  {
   "cell_type": "code",
   "execution_count": null,
   "metadata": {},
   "outputs": [],
   "source": []
  }
 ],
 "metadata": {
  "kernelspec": {
   "display_name": "Python 3",
   "language": "python",
   "name": "python3"
  },
  "language_info": {
   "codemirror_mode": {
    "name": "ipython",
    "version": 3
   },
   "file_extension": ".py",
   "mimetype": "text/x-python",
   "name": "python",
   "nbconvert_exporter": "python",
   "pygments_lexer": "ipython3",
   "version": "3.5.0"
  }
 },
 "nbformat": 4,
 "nbformat_minor": 2
}
