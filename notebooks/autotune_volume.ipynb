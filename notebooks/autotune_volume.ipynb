{
 "cells": [
  {
   "cell_type": "code",
   "execution_count": 1,
   "metadata": {},
   "outputs": [],
   "source": [
    "from ase.calculators.vasp import Vasp2\n",
    "from ase.io import read,write\n",
    "import numpy as np\n",
    "import logging\n",
    "import os\n",
    "from ase.eos import EquationOfState\n",
    "\n",
    "#!rm -r bench_Si_autotune_ENCUT\n"
   ]
  },
  {
   "cell_type": "markdown",
   "metadata": {},
   "source": [
    "# Load Structure and Set Output Directory"
   ]
  },
  {
   "cell_type": "code",
   "execution_count": 2,
   "metadata": {},
   "outputs": [],
   "source": [
    "out_dir = 'bench_Si_autotune_volume'\n",
    "sys = read(\"POSCAR.mp-27_Si\")"
   ]
  },
  {
   "cell_type": "markdown",
   "metadata": {},
   "source": [
    "# Start Log and Define Calc"
   ]
  },
  {
   "cell_type": "code",
   "execution_count": 3,
   "metadata": {},
   "outputs": [],
   "source": [
    "if not os.path.isdir(out_dir+\"/log\"):\n",
    "    os.system(\"mkdir -p {}/log\".format(out_dir))\n",
    "logging.basicConfig(format='%(asctime)s : %(message)s', datefmt='%m/%d/%Y %I:%M:%S %p',\n",
    "                   filename=out_dir+\"/log/valet.log\", filemode=\"w\",level=logging.INFO)\n",
    "calc = Vasp2(xc='PBE',kpts=(4,4,4),directory=out_dir,atoms=sys,encut=520)"
   ]
  },
  {
   "cell_type": "markdown",
   "metadata": {},
   "source": [
    "# Methods"
   ]
  },
  {
   "cell_type": "code",
   "execution_count": 4,
   "metadata": {},
   "outputs": [],
   "source": [
    "sys = read(\"POSCAR.mp-27_Si\")\n",
    "\n",
    "start_scan = 0.85\n",
    "end_scan = 1.15\n",
    "num_scans = 10\n",
    "\n",
    "start_cell = sys.get_cell()\n",
    "\n",
    "def set_volume_autotune_params(start_scan=None,end_scan=None,num_scans=None,\n",
    "                               poscar_init=None,exclude_type=None,only_type=None):\n",
    "    return start_scan,end_scan,num_scans,poscar_init,exclude_type,only_type,vols,ens"
   ]
  },
  {
   "cell_type": "markdown",
   "metadata": {},
   "source": [
    "## Get Energy and Volume Lists"
   ]
  },
  {
   "cell_type": "code",
   "execution_count": 7,
   "metadata": {},
   "outputs": [],
   "source": [
    "ens = []\n",
    "vols = []\n",
    "def do_volume_scan(start_scan=0.85,end_scan=1.15,num_scans=10,poscar_init=None,exclude_type=None,only_type=None):\n",
    "    logging.info(\"Commencing volume scan...\")\n",
    "    print(\"Determining optimal volume...\")\n",
    "    start_scan,end_scan,num_scans,poscar_init,exclude_type,only_type,vols,ens \n",
    "    \n",
    "    # Load POSCAR\n",
    "    try:\n",
    "        sys = read(poscar_init)\n",
    "    except:\n",
    "        logging.error(\"Initial POSCAR file could not be found at {}\".format(poscar_init))\n",
    "        print(\"Error: See error log for details.\")\n",
    "        return None\n",
    "    logging.info(\"Loaded initial POSCAR file.\")\n",
    "    \n",
    "    # Do volume scan\n",
    "    logging.info(\"Performing volume scan.\")\n",
    "    for x in np.linspace(start_scan,end_scan,num_scans):\n",
    "        sys.set_cell(x*start_cell,scale_atoms=True)\n",
    "        sys.set_calculator(calc)\n",
    "        ens.append(sys.get_potential_energy())\n",
    "        vols.append(sys.get_volume())\n",
    "    logging.info(\"Volume scan complete.\")\n",
    "    \n",
    "    # Fit EoS\n",
    "    logging.info(\"Fitting equations of state.\")\n",
    "    eos_types = \"sjeos taylor murnaghan birch birchmurnaghan pouriertarantola p3 antonschmidt\".split()\n",
    "\n",
    "    if exclude_type != None:\n",
    "        _ = [eos_types.remove(i) for i in exclude]\n",
    "    elif only_type != None:\n",
    "        eos_types = only_type\n",
    "        \n",
    "    eos_fits = {}\n",
    "    for typ in eos_types:\n",
    "        eos = EquationOfState(vols,ens,eos=typ)\n",
    "        v, e, B = eos.fit()\n",
    "        eos_fits[typ] = {'volume':v,'energy':e,'buld_modulus':B}\n",
    "        \n",
    "    # Rescale initial cell to optimized volume\n",
    "    logging.info(\"Rescaling with optimized volume.\")\n",
    "    vol_avg = np.average([eos_fits[key]['volume'] for key in eos_fits.keys()])\n",
    "    sys.set_cell(start_cell,scale_atoms=True)\n",
    "\n",
    "    scale = sys.get_volume()/vol_avg\n",
    "    sys.set_cell(scale*start_cell,scale_atoms=True)\n",
    "    \n",
    "    # Perform sc-step\n",
    "    logging.info(\"Performing self-consistent step.\")\n",
    "    sys.set_calculator(calc)\n",
    "    en = sys.get_potential_energy()\n",
    "    \n",
    "    # Save structure\n",
    "    logging.info(\"Saving final POSCAR_vol.\")\n",
    "    write(os.path.join(out_dir,\"POSCAR_vol\"),sys)\n",
    "    \n",
    "    print(\"Done.\")\n",
    "    logging.info(\"Volume scan complete.\")\n",
    "    return sys\n"
   ]
  },
  {
   "cell_type": "code",
   "execution_count": 8,
   "metadata": {},
   "outputs": [
    {
     "name": "stdout",
     "output_type": "stream",
     "text": [
      "Determining optimal volume...\n",
      "Done.\n"
     ]
    },
    {
     "data": {
      "text/plain": [
       "55.83097337727178"
      ]
     },
     "execution_count": 8,
     "metadata": {},
     "output_type": "execute_result"
    }
   ],
   "source": [
    "\n",
    "sys = do_volume_scan(poscar_init=\"POSCAR.mp-27_Si\")\n",
    "sys.get_volume()    "
   ]
  },
  {
   "cell_type": "code",
   "execution_count": null,
   "metadata": {},
   "outputs": [],
   "source": []
  },
  {
   "cell_type": "code",
   "execution_count": null,
   "metadata": {},
   "outputs": [],
   "source": []
  }
 ],
 "metadata": {
  "kernelspec": {
   "display_name": "Python 3",
   "language": "python",
   "name": "python3"
  },
  "language_info": {
   "codemirror_mode": {
    "name": "ipython",
    "version": 3
   },
   "file_extension": ".py",
   "mimetype": "text/x-python",
   "name": "python",
   "nbconvert_exporter": "python",
   "pygments_lexer": "ipython3",
   "version": "3.5.0"
  }
 },
 "nbformat": 4,
 "nbformat_minor": 2
}
