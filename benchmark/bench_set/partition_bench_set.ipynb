{
 "cells": [
  {
   "cell_type": "markdown",
   "metadata": {
    "toc": true
   },
   "source": [
    "<h1>Table of Contents<span class=\"tocSkip\"></span></h1>\n",
    "<div class=\"toc\"><ul class=\"toc-item\"><li><span><a href=\"#Preample\" data-toc-modified-id=\"Preample-1\"><span class=\"toc-item-num\">1&nbsp;&nbsp;</span>Preample</a></span><ul class=\"toc-item\"><li><span><a href=\"#Import-Stuff\" data-toc-modified-id=\"Import-Stuff-1.1\"><span class=\"toc-item-num\">1.1&nbsp;&nbsp;</span>Import Stuff</a></span></li><li><span><a href=\"#Functions\" data-toc-modified-id=\"Functions-1.2\"><span class=\"toc-item-num\">1.2&nbsp;&nbsp;</span>Functions</a></span></li></ul></li><li><span><a href=\"#To-Pandas\" data-toc-modified-id=\"To-Pandas-2\"><span class=\"toc-item-num\">2&nbsp;&nbsp;</span>To Pandas</a></span><ul class=\"toc-item\"><li><span><a href=\"#Load-to-DF\" data-toc-modified-id=\"Load-to-DF-2.1\"><span class=\"toc-item-num\">2.1&nbsp;&nbsp;</span>Load to DF</a></span></li><li><span><a href=\"#Clean-DF\" data-toc-modified-id=\"Clean-DF-2.2\"><span class=\"toc-item-num\">2.2&nbsp;&nbsp;</span>Clean DF</a></span></li><li><span><a href=\"#Combine\" data-toc-modified-id=\"Combine-2.3\"><span class=\"toc-item-num\">2.3&nbsp;&nbsp;</span>Combine</a></span></li><li><span><a href=\"#Partition\" data-toc-modified-id=\"Partition-2.4\"><span class=\"toc-item-num\">2.4&nbsp;&nbsp;</span>Partition</a></span></li></ul></li><li><span><a href=\"#Save-Partitions\" data-toc-modified-id=\"Save-Partitions-3\"><span class=\"toc-item-num\">3&nbsp;&nbsp;</span>Save Partitions</a></span></li></ul></div>"
   ]
  },
  {
   "cell_type": "markdown",
   "metadata": {},
   "source": [
    "# Preample\n",
    "## Import Stuff"
   ]
  },
  {
   "cell_type": "code",
   "execution_count": 6,
   "metadata": {},
   "outputs": [],
   "source": [
    "import pickle as pkl\n",
    "import pandas as pd"
   ]
  },
  {
   "cell_type": "code",
   "execution_count": 4,
   "metadata": {},
   "outputs": [],
   "source": [
    "file_bs1 = open('matproj_bench_set_0_to_900.pkl','rb')\n",
    "file_bs2 = open('matproj_bench_set_900_to_1400.pkl','rb')\n",
    "bs1 = pkl.load(file_bs1)\n",
    "bs2 = pkl.load(file_bs2)\n",
    "file_bs1.close()\n",
    "file_bs2.close()"
   ]
  },
  {
   "cell_type": "markdown",
   "metadata": {},
   "source": [
    "## Functions"
   ]
  },
  {
   "cell_type": "code",
   "execution_count": 38,
   "metadata": {},
   "outputs": [],
   "source": [
    "def clean_df(df):\n",
    "    mask = df.error == 'Bad ID'\n",
    "    df = df.drop(df[mask].index)\n",
    "    df = df.drop(columns='error')\n",
    "    return df"
   ]
  },
  {
   "cell_type": "markdown",
   "metadata": {},
   "source": [
    "# To Pandas"
   ]
  },
  {
   "cell_type": "markdown",
   "metadata": {},
   "source": [
    "## Load to DF"
   ]
  },
  {
   "cell_type": "code",
   "execution_count": 40,
   "metadata": {},
   "outputs": [],
   "source": [
    "df_bs1 = pd.DataFrame.from_dict(bs1,orient='index')\n",
    "df_bs2 = pd.DataFrame.from_dict(bs2,orient='index')\n"
   ]
  },
  {
   "cell_type": "markdown",
   "metadata": {},
   "source": [
    "## Clean DF"
   ]
  },
  {
   "cell_type": "code",
   "execution_count": 41,
   "metadata": {},
   "outputs": [],
   "source": [
    "df_bs1 = clean_df(df_bs1)\n",
    "df_bs2 = clean_df(df_bs2)"
   ]
  },
  {
   "cell_type": "markdown",
   "metadata": {},
   "source": [
    "## Combine"
   ]
  },
  {
   "cell_type": "code",
   "execution_count": 43,
   "metadata": {},
   "outputs": [],
   "source": [
    "df_bs = pd.concat([df_bs1,df_bs2])"
   ]
  },
  {
   "cell_type": "markdown",
   "metadata": {},
   "source": [
    "## Partition"
   ]
  },
  {
   "cell_type": "code",
   "execution_count": 57,
   "metadata": {},
   "outputs": [],
   "source": [
    "no_jobs = 50 # Number of jobs can run at one time\n",
    "bs_per_job = int(len(df_bs)//(0.90*no_jobs))"
   ]
  },
  {
   "cell_type": "code",
   "execution_count": 82,
   "metadata": {},
   "outputs": [],
   "source": [
    "bs_parts = {}\n",
    "\n",
    "for i in range(no_jobs):\n",
    "    start = bs_per_job*i\n",
    "    stop = (i+1)*(bs_per_job)-1 \n",
    "    bs_parts[i] = df_bs.iloc[start:stop,:].to_dict(orient='index')"
   ]
  },
  {
   "cell_type": "markdown",
   "metadata": {},
   "source": [
    "# Save Partitions"
   ]
  },
  {
   "cell_type": "code",
   "execution_count": 84,
   "metadata": {},
   "outputs": [],
   "source": [
    "for i in range(no_jobs):\n",
    "    with open('bs_part_{}.pkl'.format(i),'wb') as fout:\n",
    "        pkl.dump(bs_parts[i],fout)"
   ]
  }
 ],
 "metadata": {
  "kernelspec": {
   "display_name": "Python 3",
   "language": "python",
   "name": "python3"
  },
  "language_info": {
   "codemirror_mode": {
    "name": "ipython",
    "version": 3
   },
   "file_extension": ".py",
   "mimetype": "text/x-python",
   "name": "python",
   "nbconvert_exporter": "python",
   "pygments_lexer": "ipython3",
   "version": "3.7.3"
  },
  "toc": {
   "base_numbering": 1,
   "nav_menu": {},
   "number_sections": true,
   "sideBar": true,
   "skip_h1_title": false,
   "title_cell": "Table of Contents",
   "title_sidebar": "Contents",
   "toc_cell": true,
   "toc_position": {},
   "toc_section_display": true,
   "toc_window_display": true
  }
 },
 "nbformat": 4,
 "nbformat_minor": 2
}
