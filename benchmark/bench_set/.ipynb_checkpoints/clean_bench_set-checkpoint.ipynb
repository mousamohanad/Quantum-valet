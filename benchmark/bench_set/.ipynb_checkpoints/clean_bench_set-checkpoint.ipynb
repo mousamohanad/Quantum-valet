{
 "cells": [
  {
   "cell_type": "markdown",
   "metadata": {
    "toc": true
   },
   "source": [
    "<h1>Table of Contents<span class=\"tocSkip\"></span></h1>\n",
    "<div class=\"toc\"><ul class=\"toc-item\"></ul></div>"
   ]
  },
  {
   "cell_type": "code",
   "execution_count": 14,
   "metadata": {},
   "outputs": [],
   "source": [
    "import pickle as pkl\n",
    "\n",
    "\n",
    "set1 = pkl.load(open('matproj_bench_set_0_to_900.pkl','rb'))\n",
    "set2 = pkl.load(open('matproj_bench_set_900_to_1400.pkl','rb'))"
   ]
  },
  {
   "cell_type": "code",
   "execution_count": 20,
   "metadata": {},
   "outputs": [],
   "source": [
    "set1_copy = set1.copy()\n",
    "for key in set1.keys():\n",
    "    if set1[key] == {'error':'Bad ID'}:\n",
    "        del set1_copy[key]\n",
    "        \n",
    "set2_copy = set2.copy()\n",
    "for key in set2.keys():\n",
    "    if set2[key] == {'error':'Bad ID'}:\n",
    "        del set2_copy[key]"
   ]
  },
  {
   "cell_type": "code",
   "execution_count": 22,
   "metadata": {},
   "outputs": [
    {
     "name": "stdout",
     "output_type": "stream",
     "text": [
      "686\n",
      "1058\n"
     ]
    }
   ],
   "source": [
    "print(len(set1_copy))\n",
    "set1_copy.update(set2_copy)\n",
    "print(len(set1_copy))"
   ]
  },
  {
   "cell_type": "code",
   "execution_count": 23,
   "metadata": {},
   "outputs": [],
   "source": [
    "with open('matproj_bench_set_clean.pkl','wb') as fout:\n",
    "    pkl.dump(set1_copy,fout)"
   ]
  },
  {
   "cell_type": "code",
   "execution_count": null,
   "metadata": {},
   "outputs": [],
   "source": []
  }
 ],
 "metadata": {
  "kernelspec": {
   "display_name": "Python 3",
   "language": "python",
   "name": "python3"
  },
  "language_info": {
   "codemirror_mode": {
    "name": "ipython",
    "version": 3
   },
   "file_extension": ".py",
   "mimetype": "text/x-python",
   "name": "python",
   "nbconvert_exporter": "python",
   "pygments_lexer": "ipython3",
   "version": "3.7.3"
  },
  "toc": {
   "base_numbering": 1,
   "nav_menu": {},
   "number_sections": true,
   "sideBar": true,
   "skip_h1_title": false,
   "title_cell": "Table of Contents",
   "title_sidebar": "Contents",
   "toc_cell": true,
   "toc_position": {},
   "toc_section_display": true,
   "toc_window_display": true
  }
 },
 "nbformat": 4,
 "nbformat_minor": 2
}
